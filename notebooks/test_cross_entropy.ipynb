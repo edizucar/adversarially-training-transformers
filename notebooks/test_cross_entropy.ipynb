{
 "cells": [
  {
   "cell_type": "code",
   "execution_count": 4,
   "metadata": {},
   "outputs": [],
   "source": [
    "import torch"
   ]
  },
  {
   "cell_type": "code",
   "execution_count": 18,
   "metadata": {},
   "outputs": [
    {
     "name": "stdout",
     "output_type": "stream",
     "text": [
      "x.shape = torch.Size([10]), y.shape = torch.Size([10])\n",
      "z_ce.shape = torch.Size([10]), z_mse.shape = torch.Size([10])\n",
      "tensor([0.8463, 0.8375, 0.6682, 0.9097, 0.7605, 0.5345, 0.6678, 0.6467, 0.5254,\n",
      "        0.6744])\n",
      "tensor([0.0567, 0.0575, 0.1473, 0.1555, 0.0112, 0.2809, 0.3940, 0.0015, 0.0286,\n",
      "        0.0107])\n"
     ]
    },
    {
     "data": {
      "text/plain": [
       "([<matplotlib.axis.YTick at 0x1f30830af10>,\n",
       "  <matplotlib.axis.YTick at 0x1f3083f87d0>,\n",
       "  <matplotlib.axis.YTick at 0x1f30422ed10>,\n",
       "  <matplotlib.axis.YTick at 0x1f308446450>,\n",
       "  <matplotlib.axis.YTick at 0x1f308454690>],\n",
       " [Text(0, 0, 'x'),\n",
       "  Text(0, 1, 'y'),\n",
       "  Text(0, 2, 'BCE'),\n",
       "  Text(0, 3, 'MSE'),\n",
       "  Text(0, 4, 'Diff')])"
      ]
     },
     "execution_count": 18,
     "metadata": {},
     "output_type": "execute_result"
    },
    {
     "data": {
      "image/png": "[encoded data removed]",
      "text/plain": [
       "<Figure size 640x480 with 1 Axes>"
      ]
     },
     "metadata": {},
     "output_type": "display_data"
    }
   ],
   "source": [
    "x = torch.rand(10)\n",
    "y = torch.rand(10)\n",
    "\n",
    "print(f\"{x.shape = }, {y.shape = }\")\n",
    "\n",
    "z_ce = torch.nn.functional.binary_cross_entropy_with_logits(\n",
    "\tx, y, reduction='none'\n",
    ")\n",
    "z_mse = torch.nn.functional.mse_loss(\n",
    "\tx, y, reduction='none'\n",
    ")\n",
    "z_diff = (x - y).abs()\n",
    "\n",
    "print(f\"{z_ce.shape = }, {z_mse.shape = }\")\n",
    "print(z_ce)\n",
    "print(z_mse)\n",
    "\n",
    "stacked = torch.stack([\n",
    "\tx, y,\n",
    "\tz_ce, z_mse, z_diff\n",
    "])\n",
    "import matplotlib.pyplot as plt\n",
    "plt.imshow(stacked)\n",
    "# set y axis to be the labels\n",
    "plt.yticks(range(5), [\"x\", \"y\", \"BCE\", \"MSE\", \"Diff\"])"
   ]
  }
 ],
 "metadata": {
  "kernelspec": {
   "display_name": "Python 3",
   "language": "python",
   "name": "python3"
  },
  "language_info": {
   "codemirror_mode": {
    "name": "ipython",
    "version": 3
   },
   "file_extension": ".py",
   "mimetype": "text/x-python",
   "name": "python",
   "nbconvert_exporter": "python",
   "pygments_lexer": "ipython3",
   "version": "3.11.4"
  },
  "orig_nbformat": 4
 },
 "nbformat": 4,
 "nbformat_minor": 2
}
